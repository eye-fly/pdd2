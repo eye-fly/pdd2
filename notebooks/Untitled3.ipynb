{
 "cells": [
  {
   "cell_type": "code",
   "execution_count": 3,
   "id": "4c97b3e3-1bd5-4e05-87f4-eaeca4b47d26",
   "metadata": {},
   "outputs": [
    {
     "name": "stdout",
     "output_type": "stream",
     "text": [
      "Partitions for topic 'trips-start': {0}\n",
      "1\n",
      "2\n",
      "3\n"
     ]
    },
    {
     "ename": "KeyboardInterrupt",
     "evalue": "",
     "output_type": "error",
     "traceback": [
      "\u001b[0;31m---------------------------------------------------------------------------\u001b[0m",
      "\u001b[0;31mKeyboardInterrupt\u001b[0m                         Traceback (most recent call last)",
      "Cell \u001b[0;32mIn[3], line 28\u001b[0m\n\u001b[1;32m     26\u001b[0m consumer\u001b[38;5;241m.\u001b[39mpoll(\u001b[38;5;241m0\u001b[39m)\n\u001b[1;32m     27\u001b[0m \u001b[38;5;28mprint\u001b[39m(\u001b[38;5;241m3\u001b[39m)\n\u001b[0;32m---> 28\u001b[0m start_offset \u001b[38;5;241m=\u001b[39m \u001b[43mconsumer\u001b[49m\u001b[38;5;241;43m.\u001b[39;49m\u001b[43mposition\u001b[49m\u001b[43m(\u001b[49m\u001b[43mtp\u001b[49m\u001b[43m)\u001b[49m\n\u001b[1;32m     30\u001b[0m \u001b[38;5;28mprint\u001b[39m(\u001b[38;5;241m4\u001b[39m)\n\u001b[1;32m     31\u001b[0m consumer\u001b[38;5;241m.\u001b[39mseek_to_end(tp)\n",
      "File \u001b[0;32m/usr/local/lib/python3.9/dist-packages/kafka/consumer/group.py:758\u001b[0m, in \u001b[0;36mKafkaConsumer.position\u001b[0;34m(self, partition, timeout_ms)\u001b[0m\n\u001b[1;32m    755\u001b[0m position \u001b[38;5;241m=\u001b[39m \u001b[38;5;28mself\u001b[39m\u001b[38;5;241m.\u001b[39m_subscription\u001b[38;5;241m.\u001b[39massignment[partition]\u001b[38;5;241m.\u001b[39mposition\n\u001b[1;32m    756\u001b[0m \u001b[38;5;28;01mwhile\u001b[39;00m position \u001b[38;5;129;01mis\u001b[39;00m \u001b[38;5;28;01mNone\u001b[39;00m:\n\u001b[1;32m    757\u001b[0m     \u001b[38;5;66;03m# batch update fetch positions for any partitions without a valid position\u001b[39;00m\n\u001b[0;32m--> 758\u001b[0m     \u001b[38;5;28;01mif\u001b[39;00m \u001b[38;5;28;43mself\u001b[39;49m\u001b[38;5;241;43m.\u001b[39;49m\u001b[43m_update_fetch_positions\u001b[49m\u001b[43m(\u001b[49m\u001b[43mtimeout_ms\u001b[49m\u001b[38;5;241;43m=\u001b[39;49m\u001b[43mtimer\u001b[49m\u001b[38;5;241;43m.\u001b[39;49m\u001b[43mtimeout_ms\u001b[49m\u001b[43m)\u001b[49m:\n\u001b[1;32m    759\u001b[0m         position \u001b[38;5;241m=\u001b[39m \u001b[38;5;28mself\u001b[39m\u001b[38;5;241m.\u001b[39m_subscription\u001b[38;5;241m.\u001b[39massignment[partition]\u001b[38;5;241m.\u001b[39mposition\n\u001b[1;32m    760\u001b[0m     \u001b[38;5;28;01melif\u001b[39;00m timer\u001b[38;5;241m.\u001b[39mexpired:\n",
      "File \u001b[0;32m/usr/local/lib/python3.9/dist-packages/kafka/consumer/group.py:1152\u001b[0m, in \u001b[0;36mKafkaConsumer._update_fetch_positions\u001b[0;34m(self, timeout_ms)\u001b[0m\n\u001b[1;32m   1147\u001b[0m         \u001b[38;5;28;01mreturn\u001b[39;00m \u001b[38;5;28;01mFalse\u001b[39;00m\n\u001b[1;32m   1149\u001b[0m \u001b[38;5;66;03m# If there are partitions still needing a position and a reset policy is defined,\u001b[39;00m\n\u001b[1;32m   1150\u001b[0m \u001b[38;5;66;03m# request reset using the default policy. If no reset strategy is defined and there\u001b[39;00m\n\u001b[1;32m   1151\u001b[0m \u001b[38;5;66;03m# are partitions with a missing position, then we will raise an exception.\u001b[39;00m\n\u001b[0;32m-> 1152\u001b[0m \u001b[38;5;28;43mself\u001b[39;49m\u001b[38;5;241;43m.\u001b[39;49m\u001b[43m_subscription\u001b[49m\u001b[38;5;241;43m.\u001b[39;49m\u001b[43mreset_missing_positions\u001b[49m\u001b[43m(\u001b[49m\u001b[43m)\u001b[49m\n\u001b[1;32m   1154\u001b[0m \u001b[38;5;66;03m# Finally send an asynchronous request to lookup and update the positions of any\u001b[39;00m\n\u001b[1;32m   1155\u001b[0m \u001b[38;5;66;03m# partitions which are awaiting reset.\u001b[39;00m\n\u001b[1;32m   1156\u001b[0m \u001b[38;5;28;01mreturn\u001b[39;00m \u001b[38;5;129;01mnot\u001b[39;00m \u001b[38;5;28mself\u001b[39m\u001b[38;5;241m.\u001b[39m_fetcher\u001b[38;5;241m.\u001b[39mreset_offsets_if_needed()\n",
      "\u001b[0;31mKeyboardInterrupt\u001b[0m: "
     ]
    }
   ],
   "source": [
    "from kafka import KafkaConsumer, KafkaAdminClient, TopicPartition\n",
    "\n",
    "bootstrap_servers = ['34.118.105.77:9092']\n",
    "topic_name = 'trips-start'\n",
    "\n",
    "admin = KafkaAdminClient(bootstrap_servers=bootstrap_servers)\n",
    "consumer = KafkaConsumer(bootstrap_servers=bootstrap_servers,\n",
    "                         enable_auto_commit=False,\n",
    "                         consumer_timeout_ms=1000)\n",
    "\n",
    "partitions = consumer.partitions_for_topic(topic_name)\n",
    "print(f\"Partitions for topic '{topic_name}': {partitions}\")\n",
    "\n",
    "if partitions is None:\n",
    "    print(\"Topic not found!\")\n",
    "else:\n",
    "    total_messages = 0\n",
    "    for p in partitions:\n",
    "        tp = TopicPartition(topic_name, p)\n",
    "\n",
    "        # Assign and poll (needed before offsets work)\n",
    "        consumer.assign([tp])\n",
    "        print(1)\n",
    "        consumer.seek_to_beginning(tp)\n",
    "        print(2)\n",
    "        consumer.poll(0)\n",
    "        print(3)\n",
    "        start_offset = consumer.position(tp)\n",
    "\n",
    "        print(4)\n",
    "        consumer.seek_to_end(tp)\n",
    "        print(5)\n",
    "        consumer.poll(0)\n",
    "        end_offset = consumer.position(tp)\n",
    "\n",
    "        print(f\"Partition {p}: start={start_offset}, end={end_offset}, count={end_offset - start_offset}\")\n",
    "        total_messages += end_offset - start_offset\n",
    "\n",
    "    print(f\"✅ Total messages in topic '{topic_name}': {total_messages}\")\n"
   ]
  },
  {
   "cell_type": "code",
   "execution_count": null,
   "id": "60de09c6-d851-4ff1-aa0d-4d32f0a819f1",
   "metadata": {},
   "outputs": [],
   "source": [
    "PRINT()"
   ]
  },
  {
   "cell_type": "code",
   "execution_count": null,
   "id": "ab1b337a-9c74-423b-8413-b24e670b592a",
   "metadata": {},
   "outputs": [],
   "source": []
  }
 ],
 "metadata": {
  "kernelspec": {
   "display_name": "Python 3 (ipykernel)",
   "language": "python",
   "name": "python3"
  },
  "language_info": {
   "codemirror_mode": {
    "name": "ipython",
    "version": 3
   },
   "file_extension": ".py",
   "mimetype": "text/x-python",
   "name": "python",
   "nbconvert_exporter": "python",
   "pygments_lexer": "ipython3",
   "version": "3.9.2"
  }
 },
 "nbformat": 4,
 "nbformat_minor": 5
}
